{
 "cells": [
  {
   "cell_type": "markdown",
   "metadata": {},
   "source": [
    "1.Write a function to convert celcius to fahrenheit"
   ]
  },
  {
   "cell_type": "code",
   "execution_count": 6,
   "metadata": {},
   "outputs": [
    {
     "name": "stdin",
     "output_type": "stream",
     "text": [
      "Enter temperature in celcius 1\n"
     ]
    },
    {
     "name": "stdout",
     "output_type": "stream",
     "text": [
      "Here is you temperature in fahrenheit: 33\n"
     ]
    }
   ],
   "source": [
    "input_temp = input(\"Enter temperature in celcius\") #input temperature \n",
    "\n",
    "def celcius_to_fah(input_temp):\n",
    "    \"\"\"This function converts celcius to \n",
    "    fahrenheit\"\"\"\n",
    "    fahrenheit = (int(input_temp) * 1.8) + 32 #calculating conversion \n",
    "    return fahrenheit\n",
    "\n",
    "temp = celcius_to_fah(input_temp) \n",
    "print (\"Here is you temperature in fahrenheit: %d\"%temp)"
   ]
  },
  {
   "cell_type": "markdown",
   "metadata": {},
   "source": [
    "2.Write a function that given weight and height returns the BMI of the person."
   ]
  },
  {
   "cell_type": "code",
   "execution_count": 3,
   "metadata": {},
   "outputs": [
    {
     "name": "stdin",
     "output_type": "stream",
     "text": [
      "Enter your height in meters: 1.7\n",
      "Enter you weight kilogram: 74\n"
     ]
    },
    {
     "name": "stdout",
     "output_type": "stream",
     "text": [
      "Here is your BMI results: 25.61\n"
     ]
    }
   ],
   "source": [
    "height = input (\"Enter your height in meters:\")\n",
    "weight = input (\"Enter you weight kilogram:\")\n",
    "\n",
    "def BMI(height, weight):\n",
    "    \"\"\"This function calculates Body Mass Index using\n",
    "    height and weight\"\"\"\n",
    "    bmi = float(weight) / (float(height)**2) # Calculating BMI (formular)\n",
    "    return bmi\n",
    "\n",
    "results = BMI(height,weight)\n",
    "print (\"Here is your BMI results: %.2f\" %results) #results given in two decimal places\n"
   ]
  },
  {
   "cell_type": "markdown",
   "metadata": {},
   "source": [
    "3.Create a program that asks the user to enter their name and their age. Print out a message addressed to them that tells them the year that they will turn 100 years old."
   ]
  },
  {
   "cell_type": "code",
   "execution_count": 19,
   "metadata": {},
   "outputs": [
    {
     "name": "stdin",
     "output_type": "stream",
     "text": [
      "Enter you sur name:  landi\n",
      "Enter you age:  52\n"
     ]
    },
    {
     "name": "stdout",
     "output_type": "stream",
     "text": [
      "Hello landi ,you are currently 52years as at 2019. You will be 152 years in 100 years to come.\n"
     ]
    }
   ],
   "source": [
    "name = input (\"Enter you sur name: \")\n",
    "age = int(input (\"Enter you age: \"))\n",
    "\n",
    "def future_hundred(name, age):\n",
    "    \"\"\"This function calculates you age currently at 2019\n",
    "    and your age in 100 years\"\"\"\n",
    "    current_year = 2019\n",
    "    future_year = (100 + int(age))\n",
    "    return future_year\n",
    "\n",
    "hundred = future_hundred(name,age)\n",
    "\n",
    "print (\"Hello %s ,you are currently %syears as at 2019. You will be %d years in 100 years to come.\" %(name,age,hundred))"
   ]
  },
  {
   "cell_type": "markdown",
   "metadata": {},
   "source": [
    "4.Write a function that returns the maximum of two numbers."
   ]
  },
  {
   "cell_type": "code",
   "execution_count": 14,
   "metadata": {},
   "outputs": [
    {
     "name": "stdin",
     "output_type": "stream",
     "text": [
      "Enter first number: 5\n",
      "Enter second number: 5\n"
     ]
    },
    {
     "name": "stdout",
     "output_type": "stream",
     "text": [
      "5\n",
      "The values are the same!!!\n"
     ]
    }
   ],
   "source": [
    "a = int(input(\"Enter first number:\"))\n",
    "b = int(input(\"Enter second number:\"))\n",
    "def max(a,b):\n",
    "    \"\"\"This fuctions returns maximum number \n",
    "    of two numbers after compairing them, and\n",
    "    if the value are the same it gives a message \"\"\"\n",
    "    if a>b : \n",
    "        print(a)\n",
    "    else:\n",
    "        print(b)\n",
    "    if a == b:\n",
    "        print(\"The values are the same!!!\")\n",
    "max(a,b)"
   ]
  },
  {
   "cell_type": "markdown",
   "metadata": {},
   "source": [
    "5.Write a function called fizz_buzz that takes a number.\n",
    "        - If the number is divisible by 3, it should return “Fizz”.\n",
    "        - If it is divisible by 5, it should return “Buzz”.\n",
    "        - If it is divisible by both 3 and 5, it should return “FizzBuzz”\n",
    "        Otherwise, it should return the same number."
   ]
  },
  {
   "cell_type": "code",
   "execution_count": 17,
   "metadata": {},
   "outputs": [
    {
     "name": "stdin",
     "output_type": "stream",
     "text": [
      "Enter any number to test divisibility by 3,5,and 3&5:  15\n"
     ]
    },
    {
     "name": "stdout",
     "output_type": "stream",
     "text": [
      "Fizz\n",
      "Buzz\n",
      "FuzzBuzz\n"
     ]
    }
   ],
   "source": [
    "number = int(input (\"Enter any number to test divisibility by 3,5,and 3&5: \"))\n",
    "\n",
    "def divisibility(number):\n",
    "    \"\"\"This function test a number if its \n",
    "    divisible by 3 or 5 or 5 and 3\"\"\"\n",
    "    if number%3 == 0:\n",
    "        print (\"Fizz\")\n",
    "    if number%5 == 0:\n",
    "        print (\"Buzz\")\n",
    "    if number%3 ==0 and number%5 == 0:\n",
    "        print (\"FuzzBuzz\")\n",
    "    else:\n",
    "        print (\"Here is your input number: %d\" %number)\n",
    "    \n",
    "divisibility(number)"
   ]
  },
  {
   "cell_type": "markdown",
   "metadata": {},
   "source": [
    "6.Write a function for checking the speed of drivers. This function should have one parameter: speed.\n",
    "        - If speed is less than 70, it should print “Ok”.\n",
    "        - Otherwise, for every 5km above the speed limit (70), \n",
    "        it should give the driver one demerit point and print the \n",
    "        total number of demerit points. For example, if the speed is 80, \n",
    "        it should print: “Points: 2”.\n",
    "        - If the driver gets more than 12 points, the function should print: \n",
    "        “License suspended”"
   ]
  },
  {
   "cell_type": "code",
   "execution_count": 4,
   "metadata": {},
   "outputs": [
    {
     "name": "stdin",
     "output_type": "stream",
     "text": [
      "Enter the speed in km/h of you car for checking: 577\n"
     ]
    },
    {
     "name": "stdout",
     "output_type": "stream",
     "text": [
      "Points:101\n",
      "License Suspended!!!\n"
     ]
    }
   ],
   "source": [
    "speed = int(input(\"Enter the speed in km/h of you car for checking:\"))\n",
    "speed_max = 70\n",
    "def speed_limit(speed):\n",
    "    \"\"\"This function checks the speed\n",
    "    limit of a driver\"\"\"\n",
    "    if speed < speed_max:\n",
    "        print (\"OK\")\n",
    "    if speed > speed_max:\n",
    "        speed_diff = speed - speed_max  \n",
    "        points =((speed_diff) //5)     #calculating points \n",
    "        print (\"Points:%s\"%points)\n",
    "    if points > 12 :\n",
    "        print (\"License Suspended!!!\")\n",
    "       \n",
    "        \n",
    "   \n",
    "        \n",
    "        \n",
    "speed_limit(speed)\n",
    "\n"
   ]
  },
  {
   "cell_type": "markdown",
   "metadata": {},
   "source": [
    "7. Write a function called showNumbers that takes a parameter called limit. It should print all the numbers between 0 and limit with a label to identify the even and odd numbers. For example, if the limit is 3, it should print:\n",
    "        - 0 EVEN\n",
    "        - 1 ODD\n",
    "        - 2 EVEN\n",
    "        - 3 ODD"
   ]
  },
  {
   "cell_type": "code",
   "execution_count": 20,
   "metadata": {},
   "outputs": [
    {
     "name": "stdout",
     "output_type": "stream",
     "text": [
      "0 - EVEN\n",
      "1 - ODD\n",
      "2 - EVEN\n",
      "3 - ODD\n",
      "4 - EVEN\n",
      "5 - ODD\n",
      "6 - EVEN\n",
      "7 - ODD\n",
      "8 - EVEN\n",
      "9 - ODD\n"
     ]
    }
   ],
   "source": [
    "limit = range(0,10)\n",
    "\n",
    "def numbers(limit):\n",
    "    \"\"\"This function print numbers in the range of\n",
    "    0-10 and checking if they are odd or even numbers\"\"\"\n",
    "    for num  in limit:\n",
    "        if num%2 == 0 :\n",
    "            print (\"%d - EVEN\"%num)\n",
    "        else:\n",
    "            print (\"%d - ODD\"%num)\n",
    "numbers(limit)"
   ]
  },
  {
   "cell_type": "markdown",
   "metadata": {},
   "source": [
    "8. Write a function called show_stars(rows). If rows is 5, it should print the following:\n",
    "``` \n",
    "        *\n",
    "        **\n",
    "        ***\n",
    "        ****\n",
    "        *****\n",
    "```"
   ]
  },
  {
   "cell_type": "code",
   "execution_count": 23,
   "metadata": {},
   "outputs": [
    {
     "name": "stdout",
     "output_type": "stream",
     "text": [
      "*\n",
      "**\n",
      "***\n",
      "****\n",
      "*****\n"
     ]
    }
   ],
   "source": [
    "rows = 5\n",
    "\n",
    "def show_stars(rows):\n",
    "    for a in range(0,rows): # this represents colomn \n",
    "        for b in range(0, a+1): # this represents row \n",
    "            print ( \"*\", end = \"\"  )  # removing the new line character at the end \n",
    "        print (\"\")                     #print nothing at the end of each row \n",
    "        \n",
    "show_stars(rows)"
   ]
  },
  {
   "cell_type": "markdown",
   "metadata": {},
   "source": [
    "9. Write a function that returns the sum of multiples of 3 and 5 between 0 and limit (parameter). For example, if limit is 20, it should return the sum of 3, 5, 6, 9, 10, 12, 15, 18, 20."
   ]
  },
  {
   "cell_type": "code",
   "execution_count": 54,
   "metadata": {},
   "outputs": [
    {
     "name": "stdout",
     "output_type": "stream",
     "text": [
      "3\n",
      "8\n",
      "14\n",
      "23\n",
      "33\n",
      "45\n",
      "60\n",
      "78\n",
      "98\n"
     ]
    }
   ],
   "source": [
    "limit = range (1,21) # 20 +1 because range always minuses the last limit by 1\n",
    "\n",
    "def multiples(limit):\n",
    "    total = 0\n",
    "    \"\"\"This function prints sum of multiples\n",
    "    of 3 and 5 between 0 and 20 limit\"\"\"\n",
    "    for value in limit: \n",
    "        if value%3 == 0 or value%5 == 0:\n",
    "            total += value                #finding total of the multiples \n",
    "            print (total)\n",
    "            \n",
    "            \n",
    "            \n",
    "multiples(limit)"
   ]
  },
  {
   "cell_type": "markdown",
   "metadata": {},
   "source": [
    "10. Write a function that prints all the prime numbers between 0 and limit where limit is a parameter.\n"
   ]
  },
  {
   "cell_type": "code",
   "execution_count": null,
   "metadata": {},
   "outputs": [],
   "source": []
  },
  {
   "cell_type": "code",
   "execution_count": 55,
   "metadata": {},
   "outputs": [
    {
     "name": "stdout",
     "output_type": "stream",
     "text": [
      "0:This is NOT prime numner \n",
      "1:This is NOT prime numner \n",
      "2:This is a prime numner \n",
      "3:This is a prime numner \n",
      "4:This is NOT prime numner \n",
      "5:This is a prime numner \n",
      "6:This is NOT prime numner \n",
      "7:This is a prime numner \n",
      "8:This is NOT prime numner \n",
      "9:This is NOT prime numner \n",
      "10:This is not prime Number\n",
      "11:This is a prime number\n",
      "12:This is not prime Number\n",
      "13:This is a prime number\n",
      "14:This is not prime Number\n",
      "15:This is not prime Number\n",
      "16:This is not prime Number\n",
      "17:This is a prime number\n",
      "18:This is not prime Number\n",
      "19:This is a prime number\n"
     ]
    }
   ],
   "source": [
    "#num = int(input(\"Enter a Number:\"))\n",
    "numb = range(20)\n",
    "\n",
    "\n",
    "def prime_number(numb):\n",
    "    \"\"\"This function prints all the prime numbers in the range of 20 \"\"\"\n",
    "    uniq = [2,3,5,7]                                                  #intialize the basic prime numbers that will be used to divide numbers above 10 to test if the're prime numbers\n",
    "    for num in numb:\n",
    "        if num in uniq:\n",
    "            print (\"%d:This is a prime numner \"%num)\n",
    "        if num <10:\n",
    "            if num not in uniq:\n",
    "                print (\"%d:This is NOT prime numner \"%num)\n",
    "        else:\n",
    "            if num%2 == 0 or num%3 == 0 or num%5 == 0 or num%7 == 0:    #Testing numbers above 10\n",
    "                print (\"%d:This is not prime Number\"%num)\n",
    "            else:\n",
    "                print (\"%d:This is a prime number\"%num)\n",
    "\n",
    "prime_number(numb)       "
   ]
  },
  {
   "cell_type": "markdown",
   "metadata": {},
   "source": []
  }
 ],
 "metadata": {
  "kernelspec": {
   "display_name": "Python 3",
   "language": "python",
   "name": "python3"
  },
  "language_info": {
   "codemirror_mode": {
    "name": "ipython",
    "version": 3
   },
   "file_extension": ".py",
   "mimetype": "text/x-python",
   "name": "python",
   "nbconvert_exporter": "python",
   "pygments_lexer": "ipython3",
   "version": "3.7.2"
  }
 },
 "nbformat": 4,
 "nbformat_minor": 2
}
